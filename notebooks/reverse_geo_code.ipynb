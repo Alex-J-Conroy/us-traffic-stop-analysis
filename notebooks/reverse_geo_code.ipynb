{
 "cells": [
  {
   "cell_type": "markdown",
   "metadata": {},
   "source": [
    "## Reverse Geocoding"
   ]
  },
  {
   "cell_type": "code",
   "execution_count": 2,
   "metadata": {},
   "outputs": [
    {
     "name": "stderr",
     "output_type": "stream",
     "text": [
      "C:\\Users\\Alex\\anaconda3\\lib\\site-packages\\tqdm\\std.py:658: FutureWarning: The Panel class is removed from pandas. Accessing it from the top-level namespace will also be removed in the next version\n",
      "  from pandas import Panel\n"
     ]
    }
   ],
   "source": [
    "# Importing Libraries needed for the reverse geocoding\n",
    "!pip install  geopy\n",
    "import geopy\n",
    "import pandas as pd\n",
    "import time\n",
    "from tqdm import tqdm\n",
    "tqdm.pandas()\n",
    "from geopy.geocoders import Nominatim\n",
    "geolocator = Nominatim(user_agent=\"your_app_name\")\n",
    "from geopy.extra.rate_limiter import RateLimiter\n",
    "reverse = RateLimiter(geolocator.reverse, min_delay_seconds=1)\n"
   ]
  },
  {
   "cell_type": "code",
   "execution_count": 3,
   "metadata": {},
   "outputs": [
    {
     "name": "stderr",
     "output_type": "stream",
     "text": [
      "C:\\Users\\Alex\\anaconda3\\lib\\site-packages\\IPython\\core\\interactiveshell.py:3063: DtypeWarning: Columns (16,18) have mixed types.Specify dtype option on import or set low_memory=False.\n",
      "  interactivity=interactivity, compiler=compiler, result=result)\n"
     ]
    }
   ],
   "source": [
    "# importing datasets \n",
    "df_h = pd.read_csv ('Hart-2014.csv')"
   ]
  },
  {
   "cell_type": "code",
   "execution_count": 7,
   "metadata": {},
   "outputs": [
    {
     "name": "stderr",
     "output_type": "stream",
     "text": [
      " 91%|█████████████████████████████████████████████████████████████████████▍      | 8643/9453 [2:25:24<13:41,  1.01s/it]RateLimiter caught an error, retrying (0/2 tries). Called with (*((41.7511656, -72.69375620000001),), **{}).\n",
      "Traceback (most recent call last):\n",
      "  File \"C:\\Users\\Alex\\anaconda3\\lib\\site-packages\\urllib3\\connection.py\", line 157, in _new_conn\n",
      "    (self._dns_host, self.port), self.timeout, **extra_kw\n",
      "  File \"C:\\Users\\Alex\\anaconda3\\lib\\site-packages\\urllib3\\util\\connection.py\", line 84, in create_connection\n",
      "    raise err\n",
      "  File \"C:\\Users\\Alex\\anaconda3\\lib\\site-packages\\urllib3\\util\\connection.py\", line 74, in create_connection\n",
      "    sock.connect(sa)\n",
      "socket.timeout: timed out\n",
      "\n",
      "During handling of the above exception, another exception occurred:\n",
      "\n",
      "Traceback (most recent call last):\n",
      "  File \"C:\\Users\\Alex\\anaconda3\\lib\\site-packages\\urllib3\\connectionpool.py\", line 672, in urlopen\n",
      "    chunked=chunked,\n",
      "  File \"C:\\Users\\Alex\\anaconda3\\lib\\site-packages\\urllib3\\connectionpool.py\", line 376, in _make_request\n",
      "    self._validate_conn(conn)\n",
      "  File \"C:\\Users\\Alex\\anaconda3\\lib\\site-packages\\urllib3\\connectionpool.py\", line 994, in _validate_conn\n",
      "    conn.connect()\n",
      "  File \"C:\\Users\\Alex\\anaconda3\\lib\\site-packages\\urllib3\\connection.py\", line 300, in connect\n",
      "    conn = self._new_conn()\n",
      "  File \"C:\\Users\\Alex\\anaconda3\\lib\\site-packages\\urllib3\\connection.py\", line 164, in _new_conn\n",
      "    % (self.host, self.timeout),\n",
      "urllib3.exceptions.ConnectTimeoutError: (<urllib3.connection.VerifiedHTTPSConnection object at 0x00000213BDF38B88>, 'Connection to nominatim.openstreetmap.org timed out. (connect timeout=1)')\n",
      "\n",
      "During handling of the above exception, another exception occurred:\n",
      "\n",
      "Traceback (most recent call last):\n",
      "  File \"C:\\Users\\Alex\\anaconda3\\lib\\site-packages\\requests\\adapters.py\", line 449, in send\n",
      "    timeout=timeout\n",
      "  File \"C:\\Users\\Alex\\anaconda3\\lib\\site-packages\\urllib3\\connectionpool.py\", line 760, in urlopen\n",
      "    **response_kw\n",
      "  File \"C:\\Users\\Alex\\anaconda3\\lib\\site-packages\\urllib3\\connectionpool.py\", line 760, in urlopen\n",
      "    **response_kw\n",
      "  File \"C:\\Users\\Alex\\anaconda3\\lib\\site-packages\\urllib3\\connectionpool.py\", line 720, in urlopen\n",
      "    method, url, error=e, _pool=self, _stacktrace=sys.exc_info()[2]\n",
      "  File \"C:\\Users\\Alex\\anaconda3\\lib\\site-packages\\urllib3\\util\\retry.py\", line 436, in increment\n",
      "    raise MaxRetryError(_pool, url, error or ResponseError(cause))\n",
      "urllib3.exceptions.MaxRetryError: HTTPSConnectionPool(host='nominatim.openstreetmap.org', port=443): Max retries exceeded with url: /reverse?lat=41.7511656&lon=-72.69375620000001&format=json&addressdetails=1 (Caused by ConnectTimeoutError(<urllib3.connection.VerifiedHTTPSConnection object at 0x00000213BDF38B88>, 'Connection to nominatim.openstreetmap.org timed out. (connect timeout=1)'))\n",
      "\n",
      "During handling of the above exception, another exception occurred:\n",
      "\n",
      "Traceback (most recent call last):\n",
      "  File \"C:\\Users\\Alex\\anaconda3\\lib\\site-packages\\geopy\\adapters.py\", line 387, in _request\n",
      "    resp = self.session.get(url, timeout=timeout, headers=headers)\n",
      "  File \"C:\\Users\\Alex\\anaconda3\\lib\\site-packages\\requests\\sessions.py\", line 546, in get\n",
      "    return self.request('GET', url, **kwargs)\n",
      "  File \"C:\\Users\\Alex\\anaconda3\\lib\\site-packages\\requests\\sessions.py\", line 533, in request\n",
      "    resp = self.send(prep, **send_kwargs)\n",
      "  File \"C:\\Users\\Alex\\anaconda3\\lib\\site-packages\\requests\\sessions.py\", line 646, in send\n",
      "    r = adapter.send(request, **kwargs)\n",
      "  File \"C:\\Users\\Alex\\anaconda3\\lib\\site-packages\\requests\\adapters.py\", line 504, in send\n",
      "    raise ConnectTimeout(e, request=request)\n",
      "requests.exceptions.ConnectTimeout: HTTPSConnectionPool(host='nominatim.openstreetmap.org', port=443): Max retries exceeded with url: /reverse?lat=41.7511656&lon=-72.69375620000001&format=json&addressdetails=1 (Caused by ConnectTimeoutError(<urllib3.connection.VerifiedHTTPSConnection object at 0x00000213BDF38B88>, 'Connection to nominatim.openstreetmap.org timed out. (connect timeout=1)'))\n",
      "\n",
      "During handling of the above exception, another exception occurred:\n",
      "\n",
      "Traceback (most recent call last):\n",
      "  File \"C:\\Users\\Alex\\anaconda3\\lib\\site-packages\\geopy\\extra\\rate_limiter.py\", line 136, in _retries_gen\n",
      "    yield i  # Run the function.\n",
      "  File \"C:\\Users\\Alex\\anaconda3\\lib\\site-packages\\geopy\\extra\\rate_limiter.py\", line 274, in __call__\n",
      "    res = self.func(*args, **kwargs)\n",
      "  File \"C:\\Users\\Alex\\anaconda3\\lib\\site-packages\\geopy\\geocoders\\nominatim.py\", line 362, in reverse\n",
      "    return self._call_geocoder(url, callback, timeout=timeout)\n",
      "  File \"C:\\Users\\Alex\\anaconda3\\lib\\site-packages\\geopy\\geocoders\\base.py\", line 360, in _call_geocoder\n",
      "    result = self.adapter.get_json(url, timeout=timeout, headers=req_headers)\n",
      "  File \"C:\\Users\\Alex\\anaconda3\\lib\\site-packages\\geopy\\adapters.py\", line 377, in get_json\n",
      "    resp = self._request(url, timeout=timeout, headers=headers)\n",
      "  File \"C:\\Users\\Alex\\anaconda3\\lib\\site-packages\\geopy\\adapters.py\", line 399, in _request\n",
      "    raise GeocoderUnavailable(message)\n",
      "geopy.exc.GeocoderUnavailable: HTTPSConnectionPool(host='nominatim.openstreetmap.org', port=443): Max retries exceeded with url: /reverse?lat=41.7511656&lon=-72.69375620000001&format=json&addressdetails=1 (Caused by ConnectTimeoutError(<urllib3.connection.VerifiedHTTPSConnection object at 0x00000213BDF38B88>, 'Connection to nominatim.openstreetmap.org timed out. (connect timeout=1)'))\n",
      "100%|████████████████████████████████████████████████████████████████████████████| 9453/9453 [2:39:12<00:00,  1.01s/it]\n"
     ]
    }
   ],
   "source": [
    "# function that takes the latitude and longitude from original data and pulls the full address from the API service.\n",
    "df_h['Location'] = df_h.progress_apply(lambda row: reverse((row['lat'], row['lng'])),axis=1)\n",
    "def parse_zipcode(location):\n",
    "    if location and location.raw.get('address') and location.raw['address'].get('postcode'):\n",
    "        return location.raw['address']['postcode']\n",
    "    else:\n",
    "        return None\n",
    "    df_h['Zipcode'] = df_h['Location'].apply(parse_zipcode)\n",
    "# writing the complete dataset to a csv.     \n",
    "df_h.to_csv (r'Hart-2014-zip.csv', index = False, header=True)"
   ]
  }
 ],
 "metadata": {
  "kernelspec": {
   "display_name": "Python 3",
   "language": "python",
   "name": "python3"
  },
  "language_info": {
   "codemirror_mode": {
    "name": "ipython",
    "version": 3
   },
   "file_extension": ".py",
   "mimetype": "text/x-python",
   "name": "python",
   "nbconvert_exporter": "python",
   "pygments_lexer": "ipython3",
   "version": "3.7.6"
  }
 },
 "nbformat": 4,
 "nbformat_minor": 4
}
